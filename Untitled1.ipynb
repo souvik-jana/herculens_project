{
 "cells": [
  {
   "cell_type": "code",
   "execution_count": 1,
   "id": "9b68a617-ae0b-4a9a-b017-a54deb6384d0",
   "metadata": {},
   "outputs": [],
   "source": [
    "from lenstronomy.LensModel.lens_model import LensModel\n",
    "from lenstronomy.LensModel.Solver.lens_equation_solver import LensEquationSolver"
   ]
  },
  {
   "cell_type": "code",
   "execution_count": 2,
   "id": "e4f2e479-8d07-4f3c-b0ea-bd0a95e81845",
   "metadata": {},
   "outputs": [],
   "source": [
    "# specify the choice of lens models #\n",
    "lens_model_list = ['EPL', 'SHEAR']\n",
    "\n",
    "# setup lens model class with the list of lens models #\n",
    "lensModel = LensModel(lens_model_list=lens_model_list)\n",
    "\n",
    "# define parameter values of lens models #\n",
    "kwargs_spep = {'theta_E': 1.1, 'e1': 0.1, 'e2': 0.1, 'gamma': 2., 'center_x': 0.0, 'center_y': 0}\n",
    "kwargs_shear = {'gamma1': -0.01, 'gamma2': .03}\n",
    "kwargs_lens = [kwargs_spep, kwargs_shear]\n",
    "\n",
    "# specifiy the lens model class to deal with #\n",
    "solver = LensEquationSolver(lensModel)\n",
    "\n",
    "# solve for image positions provided a lens model and the source position #\n",
    "theta_ra, theta_dec = solver.image_position_from_source(0.02, 0.03, kwargs_lens)"
   ]
  },
  {
   "cell_type": "code",
   "execution_count": null,
   "id": "11b6b340-6a5e-4526-a613-628b81bb42fc",
   "metadata": {},
   "outputs": [],
   "source": [
    "def loglike_gw_PE(Tstar, dL, q, x10, x11, x20, x21, x30, x31, x40, x41)"
   ]
  }
 ],
 "metadata": {
  "kernelspec": {
   "display_name": "Python 3 (ipykernel)",
   "language": "python",
   "name": "python3"
  },
  "language_info": {
   "codemirror_mode": {
    "name": "ipython",
    "version": 3
   },
   "file_extension": ".py",
   "mimetype": "text/x-python",
   "name": "python",
   "nbconvert_exporter": "python",
   "pygments_lexer": "ipython3",
   "version": "3.12.11"
  }
 },
 "nbformat": 4,
 "nbformat_minor": 5
}
